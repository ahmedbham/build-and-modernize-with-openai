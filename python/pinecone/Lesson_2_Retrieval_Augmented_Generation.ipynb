{
 "cells": [
  {
   "cell_type": "markdown",
   "id": "43ead32b-d4ab-431e-b64d-7a59b8962fae",
   "metadata": {},
   "source": [
    "# Lesson 2 - Retrieval Augmented Generation (RAG)"
   ]
  },
  {
   "cell_type": "markdown",
   "id": "a229d9f9",
   "metadata": {},
   "source": [
    "### Import  the Needed Packages"
   ]
  },
  {
   "cell_type": "code",
   "execution_count": 1,
   "id": "b5ab4739",
   "metadata": {},
   "outputs": [
    {
     "name": "stdout",
     "output_type": "stream",
     "text": [
      "Requirement already satisfied: python-dotenv==1.0.0 in /usr/local/python/3.10.13/lib/python3.10/site-packages (from -r requirements.txt (line 9)) (1.0.0)\n",
      "Requirement already satisfied: numpy==1.25.2 in /usr/local/python/3.10.13/lib/python3.10/site-packages (from -r requirements.txt (line 11)) (1.25.2)\n",
      "Requirement already satisfied: pandas==2.1.3 in /usr/local/python/3.10.13/lib/python3.10/site-packages (from -r requirements.txt (line 12)) (2.1.3)\n",
      "Requirement already satisfied: scikit-learn==1.3.2 in /usr/local/python/3.10.13/lib/python3.10/site-packages (from -r requirements.txt (line 13)) (1.3.2)\n",
      "Requirement already satisfied: sentence-transformers==2.2.2 in /usr/local/python/3.10.13/lib/python3.10/site-packages (from -r requirements.txt (line 14)) (2.2.2)\n",
      "Requirement already satisfied: matplotlib==3.8.2 in /usr/local/python/3.10.13/lib/python3.10/site-packages (from -r requirements.txt (line 15)) (3.8.2)\n",
      "Requirement already satisfied: torch==2.1.1 in /usr/local/python/3.10.13/lib/python3.10/site-packages (from -r requirements.txt (line 16)) (2.1.1)\n",
      "Requirement already satisfied: langchain==0.0.346 in /usr/local/python/3.10.13/lib/python3.10/site-packages (from -r requirements.txt (line 18)) (0.0.346)\n",
      "Requirement already satisfied: openai==1.30.1 in /usr/local/python/3.10.13/lib/python3.10/site-packages (from -r requirements.txt (line 19)) (1.30.1)\n",
      "Requirement already satisfied: pinecone-client==3.0.0dev4 in /usr/local/python/3.10.13/lib/python3.10/site-packages (from -r requirements.txt (line 21)) (3.0.0.dev4)\n",
      "Requirement already satisfied: pinecone-datasets==0.5.0rc11 in /usr/local/python/3.10.13/lib/python3.10/site-packages (from -r requirements.txt (line 22)) (0.5.0rc11)\n",
      "Requirement already satisfied: pinecone-text==0.7.1 in /usr/local/python/3.10.13/lib/python3.10/site-packages (from -r requirements.txt (line 23)) (0.7.1)\n",
      "Requirement already satisfied: tiktoken==0.5.2 in /usr/local/python/3.10.13/lib/python3.10/site-packages (from -r requirements.txt (line 25)) (0.5.2)\n",
      "Requirement already satisfied: tqdm==4.66.1 in /usr/local/python/3.10.13/lib/python3.10/site-packages (from -r requirements.txt (line 26)) (4.66.1)\n",
      "Requirement already satisfied: datasets==2.15.0 in /usr/local/python/3.10.13/lib/python3.10/site-packages (from -r requirements.txt (line 28)) (2.15.0)\n",
      "Requirement already satisfied: deepface==0.0.79 in /usr/local/python/3.10.13/lib/python3.10/site-packages (from -r requirements.txt (line 29)) (0.0.79)\n",
      "Requirement already satisfied: python-dateutil>=2.8.2 in /home/codespace/.local/lib/python3.10/site-packages (from pandas==2.1.3->-r requirements.txt (line 12)) (2.9.0.post0)\n",
      "Requirement already satisfied: pytz>=2020.1 in /home/codespace/.local/lib/python3.10/site-packages (from pandas==2.1.3->-r requirements.txt (line 12)) (2024.1)\n",
      "Requirement already satisfied: tzdata>=2022.1 in /home/codespace/.local/lib/python3.10/site-packages (from pandas==2.1.3->-r requirements.txt (line 12)) (2024.1)\n",
      "Requirement already satisfied: scipy>=1.5.0 in /home/codespace/.local/lib/python3.10/site-packages (from scikit-learn==1.3.2->-r requirements.txt (line 13)) (1.13.0)\n",
      "Requirement already satisfied: joblib>=1.1.1 in /home/codespace/.local/lib/python3.10/site-packages (from scikit-learn==1.3.2->-r requirements.txt (line 13)) (1.3.2)\n",
      "Requirement already satisfied: threadpoolctl>=2.0.0 in /home/codespace/.local/lib/python3.10/site-packages (from scikit-learn==1.3.2->-r requirements.txt (line 13)) (3.4.0)\n",
      "Requirement already satisfied: transformers<5.0.0,>=4.6.0 in /usr/local/python/3.10.13/lib/python3.10/site-packages (from sentence-transformers==2.2.2->-r requirements.txt (line 14)) (4.41.0)\n",
      "Requirement already satisfied: torchvision in /usr/local/python/3.10.13/lib/python3.10/site-packages (from sentence-transformers==2.2.2->-r requirements.txt (line 14)) (0.16.1)\n",
      "Requirement already satisfied: nltk in /usr/local/python/3.10.13/lib/python3.10/site-packages (from sentence-transformers==2.2.2->-r requirements.txt (line 14)) (3.8.1)\n",
      "Requirement already satisfied: sentencepiece in /usr/local/python/3.10.13/lib/python3.10/site-packages (from sentence-transformers==2.2.2->-r requirements.txt (line 14)) (0.2.0)\n",
      "Requirement already satisfied: huggingface-hub>=0.4.0 in /usr/local/python/3.10.13/lib/python3.10/site-packages (from sentence-transformers==2.2.2->-r requirements.txt (line 14)) (0.23.0)\n",
      "Requirement already satisfied: contourpy>=1.0.1 in /home/codespace/.local/lib/python3.10/site-packages (from matplotlib==3.8.2->-r requirements.txt (line 15)) (1.2.1)\n",
      "Requirement already satisfied: cycler>=0.10 in /home/codespace/.local/lib/python3.10/site-packages (from matplotlib==3.8.2->-r requirements.txt (line 15)) (0.12.1)\n",
      "Requirement already satisfied: fonttools>=4.22.0 in /home/codespace/.local/lib/python3.10/site-packages (from matplotlib==3.8.2->-r requirements.txt (line 15)) (4.50.0)\n",
      "Requirement already satisfied: kiwisolver>=1.3.1 in /home/codespace/.local/lib/python3.10/site-packages (from matplotlib==3.8.2->-r requirements.txt (line 15)) (1.4.5)\n",
      "Requirement already satisfied: packaging>=20.0 in /usr/local/python/3.10.13/lib/python3.10/site-packages (from matplotlib==3.8.2->-r requirements.txt (line 15)) (23.2)\n",
      "Requirement already satisfied: pillow>=8 in /home/codespace/.local/lib/python3.10/site-packages (from matplotlib==3.8.2->-r requirements.txt (line 15)) (10.3.0)\n",
      "Requirement already satisfied: pyparsing>=2.3.1 in /home/codespace/.local/lib/python3.10/site-packages (from matplotlib==3.8.2->-r requirements.txt (line 15)) (3.1.2)\n",
      "Requirement already satisfied: filelock in /home/codespace/.local/lib/python3.10/site-packages (from torch==2.1.1->-r requirements.txt (line 16)) (3.13.3)\n",
      "Requirement already satisfied: typing-extensions in /home/codespace/.local/lib/python3.10/site-packages (from torch==2.1.1->-r requirements.txt (line 16)) (4.10.0)\n",
      "Requirement already satisfied: sympy in /home/codespace/.local/lib/python3.10/site-packages (from torch==2.1.1->-r requirements.txt (line 16)) (1.12)\n",
      "Requirement already satisfied: networkx in /home/codespace/.local/lib/python3.10/site-packages (from torch==2.1.1->-r requirements.txt (line 16)) (3.2.1)\n",
      "Requirement already satisfied: jinja2 in /home/codespace/.local/lib/python3.10/site-packages (from torch==2.1.1->-r requirements.txt (line 16)) (3.1.3)\n",
      "Requirement already satisfied: fsspec in /usr/local/python/3.10.13/lib/python3.10/site-packages (from torch==2.1.1->-r requirements.txt (line 16)) (2023.10.0)\n",
      "Requirement already satisfied: nvidia-cuda-nvrtc-cu12==12.1.105 in /home/codespace/.local/lib/python3.10/site-packages (from torch==2.1.1->-r requirements.txt (line 16)) (12.1.105)\n",
      "Requirement already satisfied: nvidia-cuda-runtime-cu12==12.1.105 in /home/codespace/.local/lib/python3.10/site-packages (from torch==2.1.1->-r requirements.txt (line 16)) (12.1.105)\n",
      "Requirement already satisfied: nvidia-cuda-cupti-cu12==12.1.105 in /home/codespace/.local/lib/python3.10/site-packages (from torch==2.1.1->-r requirements.txt (line 16)) (12.1.105)\n",
      "Requirement already satisfied: nvidia-cudnn-cu12==8.9.2.26 in /home/codespace/.local/lib/python3.10/site-packages (from torch==2.1.1->-r requirements.txt (line 16)) (8.9.2.26)\n",
      "Requirement already satisfied: nvidia-cublas-cu12==12.1.3.1 in /home/codespace/.local/lib/python3.10/site-packages (from torch==2.1.1->-r requirements.txt (line 16)) (12.1.3.1)\n",
      "Requirement already satisfied: nvidia-cufft-cu12==11.0.2.54 in /home/codespace/.local/lib/python3.10/site-packages (from torch==2.1.1->-r requirements.txt (line 16)) (11.0.2.54)\n",
      "Requirement already satisfied: nvidia-curand-cu12==10.3.2.106 in /home/codespace/.local/lib/python3.10/site-packages (from torch==2.1.1->-r requirements.txt (line 16)) (10.3.2.106)\n",
      "Requirement already satisfied: nvidia-cusolver-cu12==11.4.5.107 in /home/codespace/.local/lib/python3.10/site-packages (from torch==2.1.1->-r requirements.txt (line 16)) (11.4.5.107)\n",
      "Requirement already satisfied: nvidia-cusparse-cu12==12.1.0.106 in /home/codespace/.local/lib/python3.10/site-packages (from torch==2.1.1->-r requirements.txt (line 16)) (12.1.0.106)\n",
      "Requirement already satisfied: nvidia-nccl-cu12==2.18.1 in /usr/local/python/3.10.13/lib/python3.10/site-packages (from torch==2.1.1->-r requirements.txt (line 16)) (2.18.1)\n",
      "Requirement already satisfied: nvidia-nvtx-cu12==12.1.105 in /home/codespace/.local/lib/python3.10/site-packages (from torch==2.1.1->-r requirements.txt (line 16)) (12.1.105)\n",
      "Requirement already satisfied: triton==2.1.0 in /usr/local/python/3.10.13/lib/python3.10/site-packages (from torch==2.1.1->-r requirements.txt (line 16)) (2.1.0)\n",
      "Requirement already satisfied: PyYAML>=5.3 in /home/codespace/.local/lib/python3.10/site-packages (from langchain==0.0.346->-r requirements.txt (line 18)) (6.0.1)\n",
      "Requirement already satisfied: SQLAlchemy<3,>=1.4 in /usr/local/python/3.10.13/lib/python3.10/site-packages (from langchain==0.0.346->-r requirements.txt (line 18)) (2.0.30)\n",
      "Requirement already satisfied: aiohttp<4.0.0,>=3.8.3 in /usr/local/python/3.10.13/lib/python3.10/site-packages (from langchain==0.0.346->-r requirements.txt (line 18)) (3.9.5)\n",
      "Requirement already satisfied: anyio<4.0 in /usr/local/python/3.10.13/lib/python3.10/site-packages (from langchain==0.0.346->-r requirements.txt (line 18)) (3.7.1)\n",
      "Requirement already satisfied: async-timeout<5.0.0,>=4.0.0 in /usr/local/python/3.10.13/lib/python3.10/site-packages (from langchain==0.0.346->-r requirements.txt (line 18)) (4.0.3)\n",
      "Requirement already satisfied: dataclasses-json<0.7,>=0.5.7 in /usr/local/python/3.10.13/lib/python3.10/site-packages (from langchain==0.0.346->-r requirements.txt (line 18)) (0.6.6)\n",
      "Requirement already satisfied: jsonpatch<2.0,>=1.33 in /usr/local/python/3.10.13/lib/python3.10/site-packages (from langchain==0.0.346->-r requirements.txt (line 18)) (1.33)\n",
      "Requirement already satisfied: langchain-core<0.1,>=0.0.10 in /usr/local/python/3.10.13/lib/python3.10/site-packages (from langchain==0.0.346->-r requirements.txt (line 18)) (0.0.13)\n",
      "Requirement already satisfied: langsmith<0.1.0,>=0.0.63 in /usr/local/python/3.10.13/lib/python3.10/site-packages (from langchain==0.0.346->-r requirements.txt (line 18)) (0.0.92)\n",
      "Requirement already satisfied: pydantic<3,>=1 in /usr/local/python/3.10.13/lib/python3.10/site-packages (from langchain==0.0.346->-r requirements.txt (line 18)) (1.10.15)\n",
      "Requirement already satisfied: requests<3,>=2 in /home/codespace/.local/lib/python3.10/site-packages (from langchain==0.0.346->-r requirements.txt (line 18)) (2.31.0)\n",
      "Requirement already satisfied: tenacity<9.0.0,>=8.1.0 in /home/codespace/.local/lib/python3.10/site-packages (from langchain==0.0.346->-r requirements.txt (line 18)) (8.2.3)\n",
      "Requirement already satisfied: distro<2,>=1.7.0 in /usr/local/python/3.10.13/lib/python3.10/site-packages (from openai==1.30.1->-r requirements.txt (line 19)) (1.9.0)\n",
      "Requirement already satisfied: httpx<1,>=0.23.0 in /home/codespace/.local/lib/python3.10/site-packages (from openai==1.30.1->-r requirements.txt (line 19)) (0.27.0)\n",
      "Requirement already satisfied: sniffio in /home/codespace/.local/lib/python3.10/site-packages (from openai==1.30.1->-r requirements.txt (line 19)) (1.3.1)\n",
      "Requirement already satisfied: urllib3==2.0.7 in /usr/local/python/3.10.13/lib/python3.10/site-packages (from pinecone-client==3.0.0dev4->-r requirements.txt (line 21)) (2.0.7)\n",
      "Requirement already satisfied: gcsfs<2024.0.0,>=2023.1.0 in /usr/local/python/3.10.13/lib/python3.10/site-packages (from pinecone-datasets==0.5.0rc11->-r requirements.txt (line 22)) (2023.10.0)\n",
      "Requirement already satisfied: polars<0.17.0,>=0.16.4 in /usr/local/python/3.10.13/lib/python3.10/site-packages (from pinecone-datasets==0.5.0rc11->-r requirements.txt (line 22)) (0.16.18)\n",
      "Requirement already satisfied: pyarrow<12.0.0,>=11.0.0 in /usr/local/python/3.10.13/lib/python3.10/site-packages (from pinecone-datasets==0.5.0rc11->-r requirements.txt (line 22)) (11.0.0)\n",
      "Requirement already satisfied: s3fs<2024.0.0,>=2023.1.0 in /usr/local/python/3.10.13/lib/python3.10/site-packages (from pinecone-datasets==0.5.0rc11->-r requirements.txt (line 22)) (2023.10.0)\n",
      "Requirement already satisfied: mmh3<4.0.0,>=3.1.0 in /usr/local/python/3.10.13/lib/python3.10/site-packages (from pinecone-text==0.7.1->-r requirements.txt (line 23)) (3.1.0)\n",
      "Requirement already satisfied: wget<4.0,>=3.2 in /usr/local/python/3.10.13/lib/python3.10/site-packages (from pinecone-text==0.7.1->-r requirements.txt (line 23)) (3.2)\n",
      "Requirement already satisfied: regex>=2022.1.18 in /usr/local/python/3.10.13/lib/python3.10/site-packages (from tiktoken==0.5.2->-r requirements.txt (line 25)) (2024.5.15)\n",
      "Requirement already satisfied: pyarrow-hotfix in /usr/local/python/3.10.13/lib/python3.10/site-packages (from datasets==2.15.0->-r requirements.txt (line 28)) (0.6)\n",
      "Requirement already satisfied: dill<0.3.8,>=0.3.0 in /usr/local/python/3.10.13/lib/python3.10/site-packages (from datasets==2.15.0->-r requirements.txt (line 28)) (0.3.7)\n",
      "Requirement already satisfied: xxhash in /usr/local/python/3.10.13/lib/python3.10/site-packages (from datasets==2.15.0->-r requirements.txt (line 28)) (3.4.1)\n",
      "Requirement already satisfied: multiprocess in /usr/local/python/3.10.13/lib/python3.10/site-packages (from datasets==2.15.0->-r requirements.txt (line 28)) (0.70.15)\n",
      "Requirement already satisfied: gdown>=3.10.1 in /usr/local/python/3.10.13/lib/python3.10/site-packages (from deepface==0.0.79->-r requirements.txt (line 29)) (5.2.0)\n",
      "Requirement already satisfied: opencv-python>=4.5.5.64 in /usr/local/python/3.10.13/lib/python3.10/site-packages (from deepface==0.0.79->-r requirements.txt (line 29)) (4.9.0.80)\n",
      "Requirement already satisfied: tensorflow>=1.9.0 in /usr/local/python/3.10.13/lib/python3.10/site-packages (from deepface==0.0.79->-r requirements.txt (line 29)) (2.16.1)\n",
      "Requirement already satisfied: keras>=2.2.0 in /usr/local/python/3.10.13/lib/python3.10/site-packages (from deepface==0.0.79->-r requirements.txt (line 29)) (3.3.3)\n",
      "Requirement already satisfied: Flask>=1.1.2 in /usr/local/python/3.10.13/lib/python3.10/site-packages (from deepface==0.0.79->-r requirements.txt (line 29)) (3.0.3)\n",
      "Requirement already satisfied: mtcnn>=0.1.0 in /usr/local/python/3.10.13/lib/python3.10/site-packages (from deepface==0.0.79->-r requirements.txt (line 29)) (0.1.1)\n",
      "Requirement already satisfied: retina-face>=0.0.1 in /usr/local/python/3.10.13/lib/python3.10/site-packages (from deepface==0.0.79->-r requirements.txt (line 29)) (0.0.17)\n",
      "Requirement already satisfied: fire>=0.4.0 in /usr/local/python/3.10.13/lib/python3.10/site-packages (from deepface==0.0.79->-r requirements.txt (line 29)) (0.6.0)\n",
      "Requirement already satisfied: gunicorn>=20.1.0 in /usr/local/python/3.10.13/lib/python3.10/site-packages (from deepface==0.0.79->-r requirements.txt (line 29)) (22.0.0)\n",
      "Requirement already satisfied: nvidia-nvjitlink-cu12 in /home/codespace/.local/lib/python3.10/site-packages (from nvidia-cusolver-cu12==11.4.5.107->torch==2.1.1->-r requirements.txt (line 16)) (12.4.99)\n",
      "Requirement already satisfied: aiosignal>=1.1.2 in /usr/local/python/3.10.13/lib/python3.10/site-packages (from aiohttp<4.0.0,>=3.8.3->langchain==0.0.346->-r requirements.txt (line 18)) (1.3.1)\n",
      "Requirement already satisfied: attrs>=17.3.0 in /home/codespace/.local/lib/python3.10/site-packages (from aiohttp<4.0.0,>=3.8.3->langchain==0.0.346->-r requirements.txt (line 18)) (23.2.0)\n",
      "Requirement already satisfied: frozenlist>=1.1.1 in /usr/local/python/3.10.13/lib/python3.10/site-packages (from aiohttp<4.0.0,>=3.8.3->langchain==0.0.346->-r requirements.txt (line 18)) (1.4.1)\n",
      "Requirement already satisfied: multidict<7.0,>=4.5 in /usr/local/python/3.10.13/lib/python3.10/site-packages (from aiohttp<4.0.0,>=3.8.3->langchain==0.0.346->-r requirements.txt (line 18)) (6.0.5)\n",
      "Requirement already satisfied: yarl<2.0,>=1.0 in /usr/local/python/3.10.13/lib/python3.10/site-packages (from aiohttp<4.0.0,>=3.8.3->langchain==0.0.346->-r requirements.txt (line 18)) (1.9.4)\n",
      "Requirement already satisfied: idna>=2.8 in /home/codespace/.local/lib/python3.10/site-packages (from anyio<4.0->langchain==0.0.346->-r requirements.txt (line 18)) (3.6)\n",
      "Requirement already satisfied: exceptiongroup in /home/codespace/.local/lib/python3.10/site-packages (from anyio<4.0->langchain==0.0.346->-r requirements.txt (line 18)) (1.2.0)\n",
      "Requirement already satisfied: marshmallow<4.0.0,>=3.18.0 in /usr/local/python/3.10.13/lib/python3.10/site-packages (from dataclasses-json<0.7,>=0.5.7->langchain==0.0.346->-r requirements.txt (line 18)) (3.21.2)\n",
      "Requirement already satisfied: typing-inspect<1,>=0.4.0 in /usr/local/python/3.10.13/lib/python3.10/site-packages (from dataclasses-json<0.7,>=0.5.7->langchain==0.0.346->-r requirements.txt (line 18)) (0.9.0)\n",
      "Requirement already satisfied: six in /home/codespace/.local/lib/python3.10/site-packages (from fire>=0.4.0->deepface==0.0.79->-r requirements.txt (line 29)) (1.16.0)\n",
      "Requirement already satisfied: termcolor in /usr/local/python/3.10.13/lib/python3.10/site-packages (from fire>=0.4.0->deepface==0.0.79->-r requirements.txt (line 29)) (2.4.0)\n",
      "Requirement already satisfied: Werkzeug>=3.0.0 in /usr/local/python/3.10.13/lib/python3.10/site-packages (from Flask>=1.1.2->deepface==0.0.79->-r requirements.txt (line 29)) (3.0.3)\n",
      "Requirement already satisfied: itsdangerous>=2.1.2 in /usr/local/python/3.10.13/lib/python3.10/site-packages (from Flask>=1.1.2->deepface==0.0.79->-r requirements.txt (line 29)) (2.2.0)\n",
      "Requirement already satisfied: click>=8.1.3 in /usr/local/python/3.10.13/lib/python3.10/site-packages (from Flask>=1.1.2->deepface==0.0.79->-r requirements.txt (line 29)) (8.1.7)\n",
      "Requirement already satisfied: blinker>=1.6.2 in /usr/local/python/3.10.13/lib/python3.10/site-packages (from Flask>=1.1.2->deepface==0.0.79->-r requirements.txt (line 29)) (1.8.2)\n",
      "Requirement already satisfied: decorator>4.1.2 in /home/codespace/.local/lib/python3.10/site-packages (from gcsfs<2024.0.0,>=2023.1.0->pinecone-datasets==0.5.0rc11->-r requirements.txt (line 22)) (5.1.1)\n",
      "Requirement already satisfied: google-auth>=1.2 in /usr/local/python/3.10.13/lib/python3.10/site-packages (from gcsfs<2024.0.0,>=2023.1.0->pinecone-datasets==0.5.0rc11->-r requirements.txt (line 22)) (2.29.0)\n",
      "Requirement already satisfied: google-auth-oauthlib in /usr/local/python/3.10.13/lib/python3.10/site-packages (from gcsfs<2024.0.0,>=2023.1.0->pinecone-datasets==0.5.0rc11->-r requirements.txt (line 22)) (1.2.0)\n",
      "Requirement already satisfied: google-cloud-storage in /usr/local/python/3.10.13/lib/python3.10/site-packages (from gcsfs<2024.0.0,>=2023.1.0->pinecone-datasets==0.5.0rc11->-r requirements.txt (line 22)) (2.16.0)\n",
      "Requirement already satisfied: beautifulsoup4 in /home/codespace/.local/lib/python3.10/site-packages (from gdown>=3.10.1->deepface==0.0.79->-r requirements.txt (line 29)) (4.12.3)\n",
      "Requirement already satisfied: certifi in /home/codespace/.local/lib/python3.10/site-packages (from httpx<1,>=0.23.0->openai==1.30.1->-r requirements.txt (line 19)) (2024.2.2)\n",
      "Requirement already satisfied: httpcore==1.* in /home/codespace/.local/lib/python3.10/site-packages (from httpx<1,>=0.23.0->openai==1.30.1->-r requirements.txt (line 19)) (1.0.5)\n",
      "Requirement already satisfied: h11<0.15,>=0.13 in /home/codespace/.local/lib/python3.10/site-packages (from httpcore==1.*->httpx<1,>=0.23.0->openai==1.30.1->-r requirements.txt (line 19)) (0.14.0)\n",
      "Requirement already satisfied: MarkupSafe>=2.0 in /home/codespace/.local/lib/python3.10/site-packages (from jinja2->torch==2.1.1->-r requirements.txt (line 16)) (2.1.5)\n",
      "Requirement already satisfied: jsonpointer>=1.9 in /home/codespace/.local/lib/python3.10/site-packages (from jsonpatch<2.0,>=1.33->langchain==0.0.346->-r requirements.txt (line 18)) (2.4)\n",
      "Requirement already satisfied: absl-py in /usr/local/python/3.10.13/lib/python3.10/site-packages (from keras>=2.2.0->deepface==0.0.79->-r requirements.txt (line 29)) (2.1.0)\n",
      "Requirement already satisfied: rich in /usr/local/python/3.10.13/lib/python3.10/site-packages (from keras>=2.2.0->deepface==0.0.79->-r requirements.txt (line 29)) (13.7.1)\n",
      "Requirement already satisfied: namex in /usr/local/python/3.10.13/lib/python3.10/site-packages (from keras>=2.2.0->deepface==0.0.79->-r requirements.txt (line 29)) (0.0.8)\n",
      "Requirement already satisfied: h5py in /usr/local/python/3.10.13/lib/python3.10/site-packages (from keras>=2.2.0->deepface==0.0.79->-r requirements.txt (line 29)) (3.11.0)\n",
      "Requirement already satisfied: optree in /usr/local/python/3.10.13/lib/python3.10/site-packages (from keras>=2.2.0->deepface==0.0.79->-r requirements.txt (line 29)) (0.11.0)\n",
      "Requirement already satisfied: ml-dtypes in /usr/local/python/3.10.13/lib/python3.10/site-packages (from keras>=2.2.0->deepface==0.0.79->-r requirements.txt (line 29)) (0.3.2)\n",
      "Requirement already satisfied: charset-normalizer<4,>=2 in /home/codespace/.local/lib/python3.10/site-packages (from requests<3,>=2->langchain==0.0.346->-r requirements.txt (line 18)) (3.3.2)\n",
      "Requirement already satisfied: aiobotocore~=2.7.0 in /usr/local/python/3.10.13/lib/python3.10/site-packages (from s3fs<2024.0.0,>=2023.1.0->pinecone-datasets==0.5.0rc11->-r requirements.txt (line 22)) (2.7.0)\n",
      "Requirement already satisfied: greenlet!=0.4.17 in /usr/local/python/3.10.13/lib/python3.10/site-packages (from SQLAlchemy<3,>=1.4->langchain==0.0.346->-r requirements.txt (line 18)) (3.0.3)\n",
      "Requirement already satisfied: astunparse>=1.6.0 in /usr/local/python/3.10.13/lib/python3.10/site-packages (from tensorflow>=1.9.0->deepface==0.0.79->-r requirements.txt (line 29)) (1.6.3)\n",
      "Requirement already satisfied: flatbuffers>=23.5.26 in /usr/local/python/3.10.13/lib/python3.10/site-packages (from tensorflow>=1.9.0->deepface==0.0.79->-r requirements.txt (line 29)) (24.3.25)\n",
      "Requirement already satisfied: gast!=0.5.0,!=0.5.1,!=0.5.2,>=0.2.1 in /usr/local/python/3.10.13/lib/python3.10/site-packages (from tensorflow>=1.9.0->deepface==0.0.79->-r requirements.txt (line 29)) (0.5.4)\n",
      "Requirement already satisfied: google-pasta>=0.1.1 in /usr/local/python/3.10.13/lib/python3.10/site-packages (from tensorflow>=1.9.0->deepface==0.0.79->-r requirements.txt (line 29)) (0.2.0)\n",
      "Requirement already satisfied: libclang>=13.0.0 in /usr/local/python/3.10.13/lib/python3.10/site-packages (from tensorflow>=1.9.0->deepface==0.0.79->-r requirements.txt (line 29)) (18.1.1)\n",
      "Requirement already satisfied: opt-einsum>=2.3.2 in /usr/local/python/3.10.13/lib/python3.10/site-packages (from tensorflow>=1.9.0->deepface==0.0.79->-r requirements.txt (line 29)) (3.3.0)\n",
      "Requirement already satisfied: protobuf!=4.21.0,!=4.21.1,!=4.21.2,!=4.21.3,!=4.21.4,!=4.21.5,<5.0.0dev,>=3.20.3 in /usr/local/python/3.10.13/lib/python3.10/site-packages (from tensorflow>=1.9.0->deepface==0.0.79->-r requirements.txt (line 29)) (4.25.3)\n",
      "Requirement already satisfied: setuptools in /usr/local/python/3.10.13/lib/python3.10/site-packages (from tensorflow>=1.9.0->deepface==0.0.79->-r requirements.txt (line 29)) (68.2.2)\n",
      "Requirement already satisfied: wrapt>=1.11.0 in /usr/local/python/3.10.13/lib/python3.10/site-packages (from tensorflow>=1.9.0->deepface==0.0.79->-r requirements.txt (line 29)) (1.16.0)\n",
      "Requirement already satisfied: grpcio<2.0,>=1.24.3 in /usr/local/python/3.10.13/lib/python3.10/site-packages (from tensorflow>=1.9.0->deepface==0.0.79->-r requirements.txt (line 29)) (1.63.0)\n",
      "Requirement already satisfied: tensorboard<2.17,>=2.16 in /usr/local/python/3.10.13/lib/python3.10/site-packages (from tensorflow>=1.9.0->deepface==0.0.79->-r requirements.txt (line 29)) (2.16.2)\n",
      "Requirement already satisfied: tensorflow-io-gcs-filesystem>=0.23.1 in /usr/local/python/3.10.13/lib/python3.10/site-packages (from tensorflow>=1.9.0->deepface==0.0.79->-r requirements.txt (line 29)) (0.37.0)\n",
      "Requirement already satisfied: tokenizers<0.20,>=0.19 in /usr/local/python/3.10.13/lib/python3.10/site-packages (from transformers<5.0.0,>=4.6.0->sentence-transformers==2.2.2->-r requirements.txt (line 14)) (0.19.1)\n",
      "Requirement already satisfied: safetensors>=0.4.1 in /usr/local/python/3.10.13/lib/python3.10/site-packages (from transformers<5.0.0,>=4.6.0->sentence-transformers==2.2.2->-r requirements.txt (line 14)) (0.4.3)\n",
      "Requirement already satisfied: mpmath>=0.19 in /home/codespace/.local/lib/python3.10/site-packages (from sympy->torch==2.1.1->-r requirements.txt (line 16)) (1.3.0)\n",
      "Requirement already satisfied: botocore<1.31.65,>=1.31.16 in /usr/local/python/3.10.13/lib/python3.10/site-packages (from aiobotocore~=2.7.0->s3fs<2024.0.0,>=2023.1.0->pinecone-datasets==0.5.0rc11->-r requirements.txt (line 22)) (1.31.64)\n",
      "Requirement already satisfied: aioitertools<1.0.0,>=0.5.1 in /usr/local/python/3.10.13/lib/python3.10/site-packages (from aiobotocore~=2.7.0->s3fs<2024.0.0,>=2023.1.0->pinecone-datasets==0.5.0rc11->-r requirements.txt (line 22)) (0.11.0)\n",
      "Requirement already satisfied: wheel<1.0,>=0.23.0 in /usr/local/python/3.10.13/lib/python3.10/site-packages (from astunparse>=1.6.0->tensorflow>=1.9.0->deepface==0.0.79->-r requirements.txt (line 29)) (0.43.0)\n",
      "Requirement already satisfied: cachetools<6.0,>=2.0.0 in /usr/local/python/3.10.13/lib/python3.10/site-packages (from google-auth>=1.2->gcsfs<2024.0.0,>=2023.1.0->pinecone-datasets==0.5.0rc11->-r requirements.txt (line 22)) (5.3.3)\n",
      "Requirement already satisfied: pyasn1-modules>=0.2.1 in /usr/local/python/3.10.13/lib/python3.10/site-packages (from google-auth>=1.2->gcsfs<2024.0.0,>=2023.1.0->pinecone-datasets==0.5.0rc11->-r requirements.txt (line 22)) (0.4.0)\n",
      "Requirement already satisfied: rsa<5,>=3.1.4 in /usr/local/python/3.10.13/lib/python3.10/site-packages (from google-auth>=1.2->gcsfs<2024.0.0,>=2023.1.0->pinecone-datasets==0.5.0rc11->-r requirements.txt (line 22)) (4.9)\n",
      "Requirement already satisfied: markdown>=2.6.8 in /usr/local/python/3.10.13/lib/python3.10/site-packages (from tensorboard<2.17,>=2.16->tensorflow>=1.9.0->deepface==0.0.79->-r requirements.txt (line 29)) (3.6)\n",
      "Requirement already satisfied: tensorboard-data-server<0.8.0,>=0.7.0 in /usr/local/python/3.10.13/lib/python3.10/site-packages (from tensorboard<2.17,>=2.16->tensorflow>=1.9.0->deepface==0.0.79->-r requirements.txt (line 29)) (0.7.2)\n",
      "Requirement already satisfied: mypy-extensions>=0.3.0 in /usr/local/python/3.10.13/lib/python3.10/site-packages (from typing-inspect<1,>=0.4.0->dataclasses-json<0.7,>=0.5.7->langchain==0.0.346->-r requirements.txt (line 18)) (1.0.0)\n",
      "Requirement already satisfied: soupsieve>1.2 in /home/codespace/.local/lib/python3.10/site-packages (from beautifulsoup4->gdown>=3.10.1->deepface==0.0.79->-r requirements.txt (line 29)) (2.5)\n",
      "Requirement already satisfied: requests-oauthlib>=0.7.0 in /usr/local/python/3.10.13/lib/python3.10/site-packages (from google-auth-oauthlib->gcsfs<2024.0.0,>=2023.1.0->pinecone-datasets==0.5.0rc11->-r requirements.txt (line 22)) (2.0.0)\n",
      "Requirement already satisfied: google-api-core<3.0.0dev,>=2.15.0 in /usr/local/python/3.10.13/lib/python3.10/site-packages (from google-cloud-storage->gcsfs<2024.0.0,>=2023.1.0->pinecone-datasets==0.5.0rc11->-r requirements.txt (line 22)) (2.19.0)\n",
      "Requirement already satisfied: google-cloud-core<3.0dev,>=2.3.0 in /usr/local/python/3.10.13/lib/python3.10/site-packages (from google-cloud-storage->gcsfs<2024.0.0,>=2023.1.0->pinecone-datasets==0.5.0rc11->-r requirements.txt (line 22)) (2.4.1)\n",
      "Requirement already satisfied: google-resumable-media>=2.6.0 in /usr/local/python/3.10.13/lib/python3.10/site-packages (from google-cloud-storage->gcsfs<2024.0.0,>=2023.1.0->pinecone-datasets==0.5.0rc11->-r requirements.txt (line 22)) (2.7.0)\n",
      "Requirement already satisfied: google-crc32c<2.0dev,>=1.0 in /usr/local/python/3.10.13/lib/python3.10/site-packages (from google-cloud-storage->gcsfs<2024.0.0,>=2023.1.0->pinecone-datasets==0.5.0rc11->-r requirements.txt (line 22)) (1.5.0)\n",
      "Requirement already satisfied: PySocks!=1.5.7,>=1.5.6 in /usr/local/python/3.10.13/lib/python3.10/site-packages (from requests[socks]->gdown>=3.10.1->deepface==0.0.79->-r requirements.txt (line 29)) (1.7.1)\n",
      "Requirement already satisfied: markdown-it-py>=2.2.0 in /usr/local/python/3.10.13/lib/python3.10/site-packages (from rich->keras>=2.2.0->deepface==0.0.79->-r requirements.txt (line 29)) (3.0.0)\n",
      "Requirement already satisfied: pygments<3.0.0,>=2.13.0 in /home/codespace/.local/lib/python3.10/site-packages (from rich->keras>=2.2.0->deepface==0.0.79->-r requirements.txt (line 29)) (2.17.2)\n",
      "Requirement already satisfied: jmespath<2.0.0,>=0.7.1 in /usr/local/python/3.10.13/lib/python3.10/site-packages (from botocore<1.31.65,>=1.31.16->aiobotocore~=2.7.0->s3fs<2024.0.0,>=2023.1.0->pinecone-datasets==0.5.0rc11->-r requirements.txt (line 22)) (1.0.1)\n",
      "Requirement already satisfied: googleapis-common-protos<2.0.dev0,>=1.56.2 in /usr/local/python/3.10.13/lib/python3.10/site-packages (from google-api-core<3.0.0dev,>=2.15.0->google-cloud-storage->gcsfs<2024.0.0,>=2023.1.0->pinecone-datasets==0.5.0rc11->-r requirements.txt (line 22)) (1.63.0)\n",
      "Requirement already satisfied: proto-plus<2.0.0dev,>=1.22.3 in /usr/local/python/3.10.13/lib/python3.10/site-packages (from google-api-core<3.0.0dev,>=2.15.0->google-cloud-storage->gcsfs<2024.0.0,>=2023.1.0->pinecone-datasets==0.5.0rc11->-r requirements.txt (line 22)) (1.23.0)\n",
      "Requirement already satisfied: mdurl~=0.1 in /usr/local/python/3.10.13/lib/python3.10/site-packages (from markdown-it-py>=2.2.0->rich->keras>=2.2.0->deepface==0.0.79->-r requirements.txt (line 29)) (0.1.2)\n",
      "Requirement already satisfied: pyasn1<0.7.0,>=0.4.6 in /usr/local/python/3.10.13/lib/python3.10/site-packages (from pyasn1-modules>=0.2.1->google-auth>=1.2->gcsfs<2024.0.0,>=2023.1.0->pinecone-datasets==0.5.0rc11->-r requirements.txt (line 22)) (0.6.0)\n",
      "Requirement already satisfied: oauthlib>=3.0.0 in /usr/local/python/3.10.13/lib/python3.10/site-packages (from requests-oauthlib>=0.7.0->google-auth-oauthlib->gcsfs<2024.0.0,>=2023.1.0->pinecone-datasets==0.5.0rc11->-r requirements.txt (line 22)) (3.2.2)\n",
      "Note: you may need to restart the kernel to use updated packages.\n"
     ]
    }
   ],
   "source": [
    "%pip install -r requirements.txt"
   ]
  },
  {
   "cell_type": "code",
   "execution_count": 2,
   "id": "c74d8975-53e1-41a3-a846-1fed3361a4b8",
   "metadata": {},
   "outputs": [],
   "source": [
    "import warnings\n",
    "warnings.filterwarnings('ignore')"
   ]
  },
  {
   "cell_type": "code",
   "execution_count": 3,
   "id": "e1382dbd-5b93-419e-ae16-735aa4e0f22a",
   "metadata": {},
   "outputs": [],
   "source": [
    "from datasets import load_dataset\n",
    "# from openai import OpenAI\n",
    "from pinecone import Pinecone, ServerlessSpec\n",
    "from tqdm.auto import tqdm\n",
    "from DLAIUtils import Utils\n",
    "\n",
    "import ast\n",
    "import os\n",
    "import pandas as pd"
   ]
  },
  {
   "cell_type": "code",
   "execution_count": 4,
   "id": "955e9783-9f33-4c09-8b10-ebee6b4a236e",
   "metadata": {},
   "outputs": [],
   "source": [
    "# get api key\n",
    "utils = Utils()\n",
    "PINECONE_API_KEY = utils.get_pinecone_api_key()"
   ]
  },
  {
   "cell_type": "markdown",
   "id": "c79cdc21",
   "metadata": {},
   "source": [
    "### Setup Pinecone"
   ]
  },
  {
   "cell_type": "code",
   "execution_count": 5,
   "id": "73e4c29d-79ee-4d6c-8a78-c7d29077fe5b",
   "metadata": {},
   "outputs": [],
   "source": [
    "pinecone = Pinecone(api_key=PINECONE_API_KEY)\n",
    "\n",
    "utils = Utils()\n",
    "INDEX_NAME = utils.create_dlai_index_name('dl-ai')\n",
    "if INDEX_NAME in [index.name for index in pinecone.list_indexes()]:\n",
    "  pinecone.delete_index(INDEX_NAME)\n",
    "\n",
    "pinecone.create_index(name=INDEX_NAME, dimension=1536, metric='cosine',\n",
    "  spec=ServerlessSpec(cloud='aws', region='us-east-1'))\n",
    "\n",
    "index = pinecone.Index(INDEX_NAME)"
   ]
  },
  {
   "cell_type": "code",
   "execution_count": 9,
   "id": "27c65f44",
   "metadata": {},
   "outputs": [
    {
     "name": "stdout",
     "output_type": "stream",
     "text": [
      "Archive:  lesson2-wiki.csv.zip\n",
      "  inflating: wiki.csv                \n"
     ]
    }
   ],
   "source": [
    "!wget -q -O lesson2-wiki.csv.zip \"https://www.dropbox.com/scl/fi/yxzmsrv2sgl249zcspeqb/lesson2-wiki.csv.zip?rlkey=paehnoxjl3s5x53d1bedt4pmc&dl=0\"\n",
    "\n",
    "!unzip lesson2-wiki.csv.zip"
   ]
  },
  {
   "cell_type": "markdown",
   "id": "b059ccc3-f6ba-49dd-a42c-bd9a5bcfc4d3",
   "metadata": {},
   "source": [
    "<p style=\"background-color:#fff1d7; padding:15px; \"> <b>(Note: <code>max_articles_num = 500</code>):</b> To achieve a more comprehensive context for the Language Learning Model, a larger number of articles is generally more beneficial. In this lab, we've initially set <code>max_articles_num</code> to 500 for speedier results, allowing you to observe the outcomes faster. Once you've done an initial run, consider increasing this value to 750 or 1,000. You'll likely notice that the context provided to the LLM becomes richer and better. You can experiment by gradually raising this variable for different queries to observe the improvements in the LLM's contextual understanding.</p>"
   ]
  },
  {
   "cell_type": "code",
   "execution_count": 6,
   "id": "a372beb7-2322-4f6c-bb80-a9aa2c74fdaf",
   "metadata": {},
   "outputs": [
    {
     "data": {
      "text/html": [
       "<div>\n",
       "<style scoped>\n",
       "    .dataframe tbody tr th:only-of-type {\n",
       "        vertical-align: middle;\n",
       "    }\n",
       "\n",
       "    .dataframe tbody tr th {\n",
       "        vertical-align: top;\n",
       "    }\n",
       "\n",
       "    .dataframe thead th {\n",
       "        text-align: right;\n",
       "    }\n",
       "</style>\n",
       "<table border=\"1\" class=\"dataframe\">\n",
       "  <thead>\n",
       "    <tr style=\"text-align: right;\">\n",
       "      <th></th>\n",
       "      <th>id</th>\n",
       "      <th>metadata</th>\n",
       "      <th>values</th>\n",
       "    </tr>\n",
       "  </thead>\n",
       "  <tbody>\n",
       "    <tr>\n",
       "      <th>1</th>\n",
       "      <td>1-0</td>\n",
       "      <td>{'chunk': 0, 'source': 'https://simple.wikiped...</td>\n",
       "      <td>[-0.011254455894231796, -0.01698738895356655, ...</td>\n",
       "    </tr>\n",
       "    <tr>\n",
       "      <th>2</th>\n",
       "      <td>1-1</td>\n",
       "      <td>{'chunk': 1, 'source': 'https://simple.wikiped...</td>\n",
       "      <td>[-0.0015197008615359664, -0.007858820259571075...</td>\n",
       "    </tr>\n",
       "    <tr>\n",
       "      <th>3</th>\n",
       "      <td>1-2</td>\n",
       "      <td>{'chunk': 2, 'source': 'https://simple.wikiped...</td>\n",
       "      <td>[-0.009930099360644817, -0.012211072258651257,...</td>\n",
       "    </tr>\n",
       "    <tr>\n",
       "      <th>4</th>\n",
       "      <td>1-3</td>\n",
       "      <td>{'chunk': 3, 'source': 'https://simple.wikiped...</td>\n",
       "      <td>[-0.011600767262279987, -0.012608098797500134,...</td>\n",
       "    </tr>\n",
       "    <tr>\n",
       "      <th>5</th>\n",
       "      <td>1-4</td>\n",
       "      <td>{'chunk': 4, 'source': 'https://simple.wikiped...</td>\n",
       "      <td>[-0.026462381705641747, -0.016362832859158516,...</td>\n",
       "    </tr>\n",
       "  </tbody>\n",
       "</table>\n",
       "</div>"
      ],
      "text/plain": [
       "    id                                           metadata  \\\n",
       "1  1-0  {'chunk': 0, 'source': 'https://simple.wikiped...   \n",
       "2  1-1  {'chunk': 1, 'source': 'https://simple.wikiped...   \n",
       "3  1-2  {'chunk': 2, 'source': 'https://simple.wikiped...   \n",
       "4  1-3  {'chunk': 3, 'source': 'https://simple.wikiped...   \n",
       "5  1-4  {'chunk': 4, 'source': 'https://simple.wikiped...   \n",
       "\n",
       "                                              values  \n",
       "1  [-0.011254455894231796, -0.01698738895356655, ...  \n",
       "2  [-0.0015197008615359664, -0.007858820259571075...  \n",
       "3  [-0.009930099360644817, -0.012211072258651257,...  \n",
       "4  [-0.011600767262279987, -0.012608098797500134,...  \n",
       "5  [-0.026462381705641747, -0.016362832859158516,...  "
      ]
     },
     "execution_count": 6,
     "metadata": {},
     "output_type": "execute_result"
    }
   ],
   "source": [
    "max_articles_num = 500\n",
    "df = pd.read_csv('./wiki.csv', nrows=max_articles_num)\n",
    "df.head()\n"
   ]
  },
  {
   "cell_type": "markdown",
   "id": "fa307525",
   "metadata": {},
   "source": [
    "### Prepare the Embeddings and Upsert to Pinecone"
   ]
  },
  {
   "cell_type": "code",
   "execution_count": 7,
   "id": "27ac4cb4-e900-4d9e-bfc1-cd0ada96ed80",
   "metadata": {},
   "outputs": [
    {
     "data": {
      "application/vnd.jupyter.widget-view+json": {
       "model_id": "14545960b36640edb36903be3eafe0f4",
       "version_major": 2,
       "version_minor": 0
      },
      "text/plain": [
       "  0%|          | 0/500 [00:00<?, ?it/s]"
      ]
     },
     "metadata": {},
     "output_type": "display_data"
    }
   ],
   "source": [
    "prepped = []\n",
    "\n",
    "for i, row in tqdm(df.iterrows(), total=df.shape[0]):\n",
    "    meta = ast.literal_eval(row['metadata'])\n",
    "    prepped.append({'id':row['id'], \n",
    "                    'values':ast.literal_eval(row['values']), \n",
    "                    'metadata':meta})\n",
    "    if len(prepped) >= 250:\n",
    "        index.upsert(prepped)\n",
    "        prepped = []\n"
   ]
  },
  {
   "cell_type": "code",
   "execution_count": 12,
   "id": "7180b6b2-ad7c-4a59-ab6c-046d21957343",
   "metadata": {},
   "outputs": [
    {
     "data": {
      "text/plain": [
       "{'dimension': 1536,\n",
       " 'index_fullness': 0.0,\n",
       " 'namespaces': {'': {'vector_count': 500}},\n",
       " 'total_vector_count': 500}"
      ]
     },
     "execution_count": 12,
     "metadata": {},
     "output_type": "execute_result"
    }
   ],
   "source": [
    "index.describe_index_stats()"
   ]
  },
  {
   "cell_type": "markdown",
   "id": "617fe45f",
   "metadata": {},
   "source": [
    "### Connect to OpenAI"
   ]
  },
  {
   "cell_type": "code",
   "execution_count": 8,
   "id": "3aee7e2b",
   "metadata": {},
   "outputs": [],
   "source": [
    "from openai import OpenAI"
   ]
  },
  {
   "cell_type": "code",
   "execution_count": 9,
   "id": "20f1922a-122e-4f3d-a9b4-6ab1e5a67195",
   "metadata": {},
   "outputs": [],
   "source": [
    "OPENAI_API_KEY = utils.get_openai_api_key()\n",
    "# openai.api_key  = os.getenv('OPENAI_API_KEY')\n",
    "\n",
    "client = OpenAI()\n",
    "\n",
    "def get_embeddings(articles, model=\"text-embedding-ada-002\"):\n",
    "   return client.embeddings.create(input = articles, model=model)"
   ]
  },
  {
   "cell_type": "markdown",
   "id": "f629efde",
   "metadata": {},
   "source": [
    "### Run Your Query"
   ]
  },
  {
   "cell_type": "code",
   "execution_count": 10,
   "id": "3f790629-f7e4-40e8-9f96-cfdd46cfde9c",
   "metadata": {},
   "outputs": [
    {
     "name": "stdout",
     "output_type": "stream",
     "text": [
      "August 13  1961: Building of the Berlin Wall begins.\n",
      " August 14  1945: Japan announces its surrender at the end of World War II.\n",
      " August 14/15  1947: India is partitioned at independence from the UK, as the new mainly Islamic state of Pakistan is created.\n",
      " August 15  1960: The Republic of the Congo becomes independent.\n",
      " August 15  1971: Bahrain becomes independent.\n",
      " August 16  1977: Elvis Presley dies aged 42, leading to a worldwide outpouring of grief.\n",
      " August 17  1945: Indonesia declares independence from the Netherlands.\n",
      " August 17  1960: Gabon becomes independent.\n",
      " August 17  1962: Peter Fechter becomes the first person to be shot dead at the Berlin Wall.\n",
      " August 19  43 BC: Augustus becomes Roman consul.\n",
      " August 19  14: Augustus dies.\n",
      " August 19  1919: Afghanistan becomes independent.\n",
      " August 19  1991: The August Coup against Mikhail Gorbachev, in the Soviet Union, begins.\n",
      " August 20  1940: Leon Trotsky is fatally wounded with an ice pick in Mexico.\n",
      " August 20  1968: The Prague Spring uprising is crushed.\n",
      " August 20  1991: Estonia regains its independence from the Soviet Union.\n",
      " August 21  1959: Hawaii becomes the 50th State of the US.\n",
      " August 24  79: Vesuvius erupts, destroying Pompeii and neighbouring Herculaneum.\n",
      " August 24  1991: Ukraine regains independence from the Soviet Union.\n",
      " August 25  1825: Uruguay declares independence from Brazil.\n",
      "After the liberation of Denmark, one part of the country was not. That was the island of Bornholm. The German Commandant von Kamptz who was stationed there, refused to surrender to the Soviets as the German were fleeing to Bornholm and further to Sweden. The Soviets then bombed the two biggest towns Rønne and Nexø. After the Germans were captured on May 9, 1945, the Soviet Army occupied the island until April 6, 1946.\n",
      "\n",
      "After World War Two, Denmark became a member of NATO and the European Union. Greenland and the Faroe Islands are now part of the Kingdom of Denmark and have their own governments and limited power.\n",
      "\n",
      "Government and politics \n",
      "\n",
      "Denmark has three branches of power; the judiciary (the courts), the executive (the Prime Minister and the cabinet) and the legislature (the Danish parliament). The current Prime Minister of Denmark is Mette Frederiksen, who was elected in June 2019.\n",
      "\n",
      "Denmark is a Kingdom which means it has a monarch (a king or queen). The current monarch is Queen Margrethe II. Margrethe II does not have a lot of power (she does not make any important decisions) and has a symbolic role. Denmark became a constitutional monarchy in 1849.\n",
      "\n",
      "Elections to the parliament are held every four years, and the winner of the election is the party or coalition which gets the most votes and seats in the parliament. After the elections are done, several parties who are in agreement will group together to form a coalition government, and the leader of the largest party becomes the prime minister.\n",
      "\n",
      "Here is a short summary of the biggest political parties in Denmark, from left to right on the political axis:\n",
      "In 1989, there were protests in Tian'anmen Square because some people wanted democracy.\n",
      "\n",
      "Special places\n",
      "Important places in Beijing include:\n",
      " The Great Wall of China (Chángchéng), in the mountains between Beijing and the grasslands of Mongolia\n",
      " The Forbidden City (Gùgōng), the most important home of the emperors of Ming and Qing China\n",
      " Tian'anmen Square (Tiān'ānmén Guǎngchǎng), surrounded by China's most important government buildings and museums\n",
      " Jingshan & Beihai Parks, the hill overlooking the Forbidden City and the lake beside it, with many temples\n",
      " The Summer Palace (Yìhéyuán) and Old Summer Palace (Yuánmíng Yuán), the more natural home of the last Qing emperors and what is left of an older one\n",
      " Prince Gong's Mansion, a very nice old house for one of the Qing princes\n",
      " The Imperial Ancestral Temple (Tàimiào), where the emperors remembered the earlier people in their families\n",
      " The Temple of Heaven (Tiāntán) and Temple of the Earth (Dìtán), important places for China's old national religion\n",
      " The Temples of the Sun and the Moon, other important places for China's old national religion\n",
      " The Temple of Confucius and Imperial Academy, important places for China's old kind of education\n",
      " Niujie Mosque, a place for Beijing's Muslims and one of the city's oldest buildings\n",
      " The National and Urban Planning Museums\n",
      " Olympic Green, the park left from the 2008 Beijing Olympics\n",
      " Marco Polo Bridge, a very old bridge across the main river west of town\n",
      " Ming Tombs, where many Ming emperors were buried\n",
      " Zhoukoudian, caves in the mountains west of town where people lived long, long ago\n"
     ]
    }
   ],
   "source": [
    "query = \"what is the berlin wall?\"\n",
    "\n",
    "embed = get_embeddings([query])\n",
    "res = index.query(vector=embed.data[0].embedding, top_k=3, include_metadata=True)\n",
    "text = [r['metadata']['text'] for r in res['matches']]\n",
    "print('\\n'.join(text))\n"
   ]
  },
  {
   "cell_type": "markdown",
   "id": "26ee483a",
   "metadata": {},
   "source": [
    "### Build the Prompt"
   ]
  },
  {
   "cell_type": "code",
   "execution_count": 11,
   "id": "92cdddce-9a39-4ffd-823c-e91b7af48cf5",
   "metadata": {},
   "outputs": [
    {
     "name": "stdout",
     "output_type": "stream",
     "text": [
      "Answer the question based on the context below.\n",
      "\n",
      "Context:\n",
      "August 13  1961: Building of the Berlin Wall begins.\n",
      " August 14  1945: Japan announces its surrender at the end of World War II.\n",
      " August 14/15  1947: India is partitioned at independence from the UK, as the new mainly Islamic state of Pakistan is created.\n",
      " August 15  1960: The Republic of the Congo becomes independent.\n",
      " August 15  1971: Bahrain becomes independent.\n",
      " August 16  1977: Elvis Presley dies aged 42, leading to a worldwide outpouring of grief.\n",
      " August 17  1945: Indonesia declares independence from the Netherlands.\n",
      " August 17  1960: Gabon becomes independent.\n",
      " August 17  1962: Peter Fechter becomes the first person to be shot dead at the Berlin Wall.\n",
      " August 19  43 BC: Augustus becomes Roman consul.\n",
      " August 19  14: Augustus dies.\n",
      " August 19  1919: Afghanistan becomes independent.\n",
      " August 19  1991: The August Coup against Mikhail Gorbachev, in the Soviet Union, begins.\n",
      " August 20  1940: Leon Trotsky is fatally wounded with an ice pick in Mexico.\n",
      " August 20  1968: The Prague Spring uprising is crushed.\n",
      " August 20  1991: Estonia regains its independence from the Soviet Union.\n",
      " August 21  1959: Hawaii becomes the 50th State of the US.\n",
      " August 24  79: Vesuvius erupts, destroying Pompeii and neighbouring Herculaneum.\n",
      " August 24  1991: Ukraine regains independence from the Soviet Union.\n",
      " August 25  1825: Uruguay declares independence from Brazil.\n",
      "\n",
      "---\n",
      "\n",
      "Everything2 or E2 is a website.  It lets people make pages about many different things, and some people use it as a diary.\n",
      "\n",
      "E2 users create pages called nodes and add stuff in writeups.  Only logged-in users can create writeups.  Only the person who created the writeup or someone who the website owners (called \"gods\") choose can edit the writeup.  On the other hand, on Wikipedia, anyone can edit pages, but on Everything2 only those who can edit the writeup can edit pages.\n",
      "\n",
      "Everything2 does not require a neutral point of view like Wikipedia does. So, it is possible to have more than one article (writeups) under the same title (node), each by different authors, and presenting different points of view.\n",
      "\n",
      "Other websites \n",
      " Everything2 website\n",
      " Everything2.com article about Wikipedia\n",
      "\n",
      "Websites\n",
      "\n",
      "---\n",
      "\n",
      "After the liberation of Denmark, one part of the country was not. That was the island of Bornholm. The German Commandant von Kamptz who was stationed there, refused to surrender to the Soviets as the German were fleeing to Bornholm and further to Sweden. The Soviets then bombed the two biggest towns Rønne and Nexø. After the Germans were captured on May 9, 1945, the Soviet Army occupied the island until April 6, 1946.\n",
      "\n",
      "After World War Two, Denmark became a member of NATO and the European Union. Greenland and the Faroe Islands are now part of the Kingdom of Denmark and have their own governments and limited power.\n",
      "\n",
      "Government and politics \n",
      "\n",
      "Denmark has three branches of power; the judiciary (the courts), the executive (the Prime Minister and the cabinet) and the legislature (the Danish parliament). The current Prime Minister of Denmark is Mette Frederiksen, who was elected in June 2019.\n",
      "\n",
      "Denmark is a Kingdom which means it has a monarch (a king or queen). The current monarch is Queen Margrethe II. Margrethe II does not have a lot of power (she does not make any important decisions) and has a symbolic role. Denmark became a constitutional monarchy in 1849.\n",
      "\n",
      "Elections to the parliament are held every four years, and the winner of the election is the party or coalition which gets the most votes and seats in the parliament. After the elections are done, several parties who are in agreement will group together to form a coalition government, and the leader of the largest party becomes the prime minister.\n",
      "\n",
      "Here is a short summary of the biggest political parties in Denmark, from left to right on the political axis:\n",
      "\n",
      "Question: write an article titled: what is the berlin wall?\n",
      "Answer:\n"
     ]
    }
   ],
   "source": [
    "query = \"write an article titled: what is the berlin wall?\"\n",
    "embed = get_embeddings([query])\n",
    "res = index.query(vector=embed.data[0].embedding, top_k=3, include_metadata=True)\n",
    "\n",
    "contexts = [\n",
    "    x['metadata']['text'] for x in res['matches']\n",
    "]\n",
    "\n",
    "prompt_start = (\n",
    "    \"Answer the question based on the context below.\\n\\n\"+\n",
    "    \"Context:\\n\"\n",
    ")\n",
    "\n",
    "prompt_end = (\n",
    "    f\"\\n\\nQuestion: {query}\\nAnswer:\"\n",
    ")\n",
    "\n",
    "prompt = (\n",
    "    prompt_start + \"\\n\\n---\\n\\n\".join(contexts) + \n",
    "    prompt_end\n",
    ")\n",
    "\n",
    "print(prompt)"
   ]
  },
  {
   "cell_type": "markdown",
   "id": "c457d658",
   "metadata": {},
   "source": [
    "### Get the Summary "
   ]
  },
  {
   "cell_type": "code",
   "execution_count": 12,
   "id": "1cd1b8ed-99b6-4c47-a784-da4192aa6e6e",
   "metadata": {},
   "outputs": [
    {
     "name": "stdout",
     "output_type": "stream",
     "text": [
      "--------------------------------------------------------------------------------\n",
      "\n",
      "The Berlin Wall was a physical barrier that divided the city of Berlin, Germany from 1961 to 1989. It was built by the German Democratic Republic (GDR), also known as East Germany, in an effort to prevent its citizens from fleeing to the democratic West Germany.\n",
      "\n",
      "The construction of the Berlin Wall began on August 13, 1961, and it consisted of a concrete wall, barbed wire, and guard towers. The wall stretched for 96 miles, dividing the city into two separate parts. The East German government claimed that the wall was built to protect its citizens from Western imperialism and to prevent spies and agents from entering the country.\n",
      "\n",
      "However, the real purpose of the Berlin Wall was to prevent East Germans from escaping to the West. Before the wall was built, thousands of East Germans had been fleeing to West Germany every day, seeking better economic opportunities and political freedom. The wall effectively cut off all access to the West, trapping East Germans in their own country.\n",
      "\n",
      "The Berlin Wall became a symbol of the Cold War and the division between the communist East and the democratic West. Families and friends were separated, and many lives were lost in attempts to cross the wall. The most famous incident was the death of Peter Fechter on August 17, 1962, when he was shot by East German guards while trying to escape to the West.\n",
      "\n",
      "The Berlin Wall stood for 28 years, until November 9, 1989, when the East German government announced that its citizens were free to cross the border. This announcement led to a joyous celebration as people from both sides of the wall came together and began tearing it down. The fall of the Berlin Wall marked the end of the Cold War and the beginning of German reunification.\n",
      "\n",
      "Today, the Berlin Wall is a symbol of the struggle for freedom and the human desire for unity. Parts of the wall still stand as a reminder of the division that once existed, and a memorial has been built to honor those who lost their lives trying to cross it. The Berlin Wall serves as a powerful reminder of the importance of freedom and the consequences of division.\n"
     ]
    }
   ],
   "source": [
    "res = client.completions.create(\n",
    "    model=\"gpt-3.5-turbo-instruct\",\n",
    "    prompt=prompt,\n",
    "    temperature=0,\n",
    "    max_tokens=636,\n",
    "    top_p=1,\n",
    "    frequency_penalty=0,\n",
    "    presence_penalty=0,\n",
    "    stop=None\n",
    ")\n",
    "print('-' * 80)\n",
    "print(res.choices[0].text)"
   ]
  },
  {
   "cell_type": "code",
   "execution_count": null,
   "id": "7e985a43-5d35-4173-9ae1-3efef399c379",
   "metadata": {},
   "outputs": [],
   "source": []
  }
 ],
 "metadata": {
  "kernelspec": {
   "display_name": "Python 3 (ipykernel)",
   "language": "python",
   "name": "python3"
  },
  "language_info": {
   "codemirror_mode": {
    "name": "ipython",
    "version": 3
   },
   "file_extension": ".py",
   "mimetype": "text/x-python",
   "name": "python",
   "nbconvert_exporter": "python",
   "pygments_lexer": "ipython3",
   "version": "3.10.13"
  }
 },
 "nbformat": 4,
 "nbformat_minor": 5
}
